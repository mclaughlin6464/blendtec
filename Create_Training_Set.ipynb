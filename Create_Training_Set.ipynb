{
 "cells": [
  {
   "cell_type": "markdown",
   "metadata": {},
   "source": [
    "It's the DESC Hack day for the 2018 Summer meeting. I'm going to work on the \"Will it blend?\" classifier. I'm going to use the matched catalogs in DC2 to construct this. \n",
    "\n",
    "It's possible there are other issues with these catalogs that make this not possible. If this is the case, it is worthwile to know, too. "
   ]
  },
  {
   "cell_type": "code",
   "execution_count": 136,
   "metadata": {},
   "outputs": [],
   "source": [
    "import numpy as np\n",
    "import matplotlib.pyplot as plt\n",
    "%matplotlib inline"
   ]
  },
  {
   "cell_type": "code",
   "execution_count": 137,
   "metadata": {},
   "outputs": [],
   "source": [
    "from astropy.coordinates import SkyCoord\n",
    "import FoFCatalogMatching\n",
    "import GCRCatalogs"
   ]
  },
  {
   "cell_type": "code",
   "execution_count": 138,
   "metadata": {},
   "outputs": [],
   "source": [
    "# load coadd catalog (for a single tract)\n",
    "coadd_cat = GCRCatalogs.load_catalog('dc2_coadd_run1.1p_tract4850')"
   ]
  },
  {
   "cell_type": "code",
   "execution_count": 139,
   "metadata": {},
   "outputs": [],
   "source": [
    "# Let's choose a small RA and Dec range to do the matching so that it won't take too long!\n",
    "ra_min, ra_max = 55.0, 60.0\n",
    "dec_min, dec_max = -29.0, -24.0\n",
    "\n",
    "coord_filters = [\n",
    "    'ra >= {}'.format(ra_min),\n",
    "    'ra < {}'.format(ra_max),\n",
    "    'dec >= {}'.format(dec_min),\n",
    "    'dec < {}'.format(dec_max),\n",
    "]"
   ]
  },
  {
   "cell_type": "code",
   "execution_count": 140,
   "metadata": {},
   "outputs": [],
   "source": [
    "# Let's also define a magnitude cut\n",
    "mag_filters = [\n",
    "    (np.isfinite, 'mag_i'),\n",
    "    'mag_i < 24.5',\n",
    "]"
   ]
  },
  {
   "cell_type": "code",
   "execution_count": 141,
   "metadata": {},
   "outputs": [],
   "source": [
    "# Load ra and dec from coadd, using both of the filters we just defined\n",
    "coadd_coord = coadd_cat.get_quantities(['ra', 'dec'], filters=(coord_filters + mag_filters))"
   ]
  },
  {
   "cell_type": "code",
   "execution_count": 142,
   "metadata": {
    "scrolled": true
   },
   "outputs": [],
   "source": [
    "# Let's now turn to the truth catalog, turn of md5 sum check to save time\n",
    "truth_cat = GCRCatalogs.load_catalog('dc2_truth_run1.1', {'md5': None})"
   ]
  },
  {
   "cell_type": "code",
   "execution_count": 166,
   "metadata": {},
   "outputs": [],
   "source": [
    "redshifts = truth_cat.get_quantities('redshift', filters =mag_filters, native_filters=(coord_filters + ['i < 24.5']))"
   ]
  },
  {
   "cell_type": "code",
   "execution_count": null,
   "metadata": {},
   "outputs": [
    {
     "name": "stderr",
     "output_type": "stream",
     "text": [
      "/global/common/software/lsst/common/miniconda/current/lib/python3.6/site-packages/ipykernel/__main__.py:4: RuntimeWarning: divide by zero encountered in log10\n"
     ]
    }
   ],
   "source": [
    "delta = []\n",
    "for i1 in range(redshifts['redshift'].shape[0]):\n",
    "    for i2 in range(i1+1, redshifts['redshift'].shape[0]):\n",
    "        delta.append(np.log10(np.abs(redshifts['redshift'][i1] - redshifts['redshift'][i2])+1e-9) )\n",
    "        \n",
    "delta = np.array(delta)"
   ]
  },
  {
   "cell_type": "code",
   "execution_count": 143,
   "metadata": {},
   "outputs": [],
   "source": [
    "# to make our `mag_filters` work, let's define mag_i for the truth catalog\n",
    "truth_cat.add_quantity_modifier('mag_i', 'i')"
   ]
  },
  {
   "cell_type": "code",
   "execution_count": 144,
   "metadata": {
    "scrolled": true
   },
   "outputs": [],
   "source": [
    "# get ra and dec from truth catalog\n",
    "# note that we add i < 24.5 to the native filter to speed up load time\n",
    "truth_coord = truth_cat.get_quantities(['ra','dec'], filters=mag_filters, native_filters=(coord_filters + ['i < 24.5']))"
   ]
  },
  {
   "cell_type": "code",
   "execution_count": 145,
   "metadata": {},
   "outputs": [],
   "source": [
    "# now we can really do the matching!\n",
    "# FoFCatalogMatching.match takes a dictionary of catalogs to match, a friends-of-friends linking length. \n",
    "# Because our \"catalog\" is not an astropy table or pandas dataframe, \n",
    "# `len(truth_coord)` won't give the actual length of the table\n",
    "# so we need to specify `catalog_len_getter` so that the code knows how to get the length of the catalog.\n",
    "\n",
    "results = FoFCatalogMatching.match(\n",
    "    catalog_dict={'truth': truth_coord, 'coadd': coadd_coord},\n",
    "    linking_lengths=1.0,\n",
    "    catalog_len_getter=lambda x: len(x['ra']),\n",
    ")"
   ]
  },
  {
   "cell_type": "code",
   "execution_count": 146,
   "metadata": {},
   "outputs": [],
   "source": [
    "from collections import Counter, defaultdict"
   ]
  },
  {
   "cell_type": "code",
   "execution_count": 147,
   "metadata": {},
   "outputs": [],
   "source": [
    "def retrieve_subset_by_count(results, selected_quantities, n_true, n_coadd):\n",
    "    # now we want to count the number of truth and coadd objects *for each group*\n",
    "    # but instead of looping over groups, we can do this in a smart (and very fast) way\n",
    "\n",
    "    # first we need to know which rows are from the truth catalog and which are from the coadd\n",
    "    truth_mask = results['catalog_key'] == 'truth'\n",
    "    coadd_mask = ~truth_mask\n",
    "    \n",
    "    truth_group_counter = Counter(results['group_id'][truth_mask])\n",
    "    coadd_group_counter = Counter(results['group_id'][coadd_mask])\n",
    "    #select blended groups\n",
    "    # wish I could do this faster\n",
    "    matched_groups = set()\n",
    "    for group_id, true_count in truth_group_counter.items():\n",
    "        if true_count != n_true:\n",
    "            continue\n",
    "\n",
    "        coadd_count = coadd_group_counter[group_id]\n",
    "        if coadd_count != n_coadd:\n",
    "            continue\n",
    "\n",
    "        matched_groups.add(group_id)\n",
    "        \n",
    "    # get ra and dec from truth catalog\n",
    "    # note that we add i < 24.5 to the native filter to speed up load time\n",
    "    truth_vals= truth_cat.get_quantities(selected_quantities,\\\n",
    "                                         filters=mag_filters,\\\n",
    "                                         native_filters=(coord_filters + ['i < 24.5']))\n",
    "    matched_vals = defaultdict(list)\n",
    "\n",
    "    for row in results[truth_mask]:\n",
    "        if row['group_id'] in matched_groups:\n",
    "            idx = row['row_index']\n",
    "            matched_vals[row['group_id']].append([truth_vals[key][idx] for key in selected_quantities] )\n",
    "\n",
    "    return matched_vals"
   ]
  },
  {
   "cell_type": "code",
   "execution_count": 148,
   "metadata": {},
   "outputs": [],
   "source": [
    "selected_quantities = ['ra','dec','u','g','r','i','z','redshift']\n",
    "blended_pairs = retrieve_subset_by_count(results, selected_quantities, 2,1)"
   ]
  },
  {
   "cell_type": "code",
   "execution_count": 149,
   "metadata": {},
   "outputs": [],
   "source": [
    "# now I need to get an idea for what distributions of objects can be blended so I can make\n",
    "# an initial cut. \n",
    "\n",
    "ang_dists = []\n",
    "for pairs in blended_pairs.values():\n",
    "    ra1, dec1 = pairs[0][:2]\n",
    "    ra2, dec2 = pairs[1][:2]\n",
    "    ang_dists.append(np.sqrt((ra1-ra2)**2+(dec1-dec2)**2))\n",
    "    \n",
    "ang_dists = np.array(ang_dists)"
   ]
  },
  {
   "cell_type": "code",
   "execution_count": 150,
   "metadata": {},
   "outputs": [
    {
     "data": {
      "image/png": "[encoded data removed]",
      "text/plain": [
       "<matplotlib.figure.Figure at 0x2ace4249c588>"
      ]
     },
     "metadata": {},
     "output_type": "display_data"
    }
   ],
   "source": [
    "plt.hist(ang_dists);"
   ]
  },
  {
   "cell_type": "code",
   "execution_count": 151,
   "metadata": {},
   "outputs": [],
   "source": [
    "max_ang_dist = ang_dists.max()"
   ]
  },
  {
   "cell_type": "code",
   "execution_count": 152,
   "metadata": {},
   "outputs": [],
   "source": [
    "from sklearn.neighbors import KDTree"
   ]
  },
  {
   "cell_type": "code",
   "execution_count": 153,
   "metadata": {},
   "outputs": [],
   "source": [
    "selected_quantities = ['ra','dec','u','g','r','i','z','redshift']\n",
    "\n",
    "_unblended_objs = retrieve_subset_by_count(results, selected_quantities, 1,1)"
   ]
  },
  {
   "cell_type": "code",
   "execution_count": 154,
   "metadata": {},
   "outputs": [],
   "source": [
    "unblended_objs = np.r_[[np.array(v[0]) for v in _unblended_objs.values()] ]"
   ]
  },
  {
   "cell_type": "code",
   "execution_count": 155,
   "metadata": {},
   "outputs": [],
   "source": [
    "# now make kdtree to find pairs on unblended objects \n",
    "kdtree = KDTree(unblended_objs[:, :2])\n",
    "\n",
    "unblended_neighbors = kdtree.query_radius(unblended_objs[:,:2], r = max_ang_dist)"
   ]
  },
  {
   "cell_type": "code",
   "execution_count": 156,
   "metadata": {},
   "outputs": [],
   "source": [
    "unblended_pairs = []\n",
    "seen_objs = set()\n",
    "for row in unblended_neighbors:\n",
    "    if row.shape[0]  == 2:\n",
    "        if all(i in seen_objs for i in row):\n",
    "            continue\n",
    "        unblended_pairs.append(list(unblended_objs[row[0]]) )\n",
    "        unblended_pairs[-1].extend(unblended_objs[row[1]])\n",
    "        \n",
    "        for i in row:\n",
    "            seen_objs.add(i)\n",
    "            \n",
    "unblended_pairs = np.array(unblended_pairs)"
   ]
  },
  {
   "cell_type": "code",
   "execution_count": 157,
   "metadata": {},
   "outputs": [],
   "source": [
    "_blended_pairs = []\n",
    "\n",
    "for row in blended_pairs.values():\n",
    "    _blended_pairs.append(row[0])\n",
    "    _blended_pairs[-1].extend(row[1])\n",
    "    \n",
    "blended_pairs = np.array(_blended_pairs)"
   ]
  },
  {
   "cell_type": "code",
   "execution_count": 158,
   "metadata": {},
   "outputs": [
    {
     "data": {
      "text/plain": [
       "array([ 56.15565235, -28.33495934,  23.36393637,  23.38526388,\n",
       "        23.08607278,  22.38352663,  22.19934844,   0.76339829,\n",
       "        56.155615  , -28.3346321 ,  28.05006019,  25.55044486,\n",
       "        24.34336383,  23.28025177,  22.79261058,   0.        ])"
      ]
     },
     "execution_count": 158,
     "metadata": {},
     "output_type": "execute_result"
    }
   ],
   "source": [
    "unblended_pairs[0]"
   ]
  },
  {
   "cell_type": "code",
   "execution_count": 159,
   "metadata": {},
   "outputs": [],
   "source": [
    "total_points = len(blended_pairs) + len(unblended_pairs)\n",
    "# do I want to add difference columns?\n",
    "# will add a distance column\n",
    "x = np.zeros((total_points, unblended_pairs.shape[1] -3)) \n",
    "y = np.zeros((total_points,), dtype = bool)"
   ]
  },
  {
   "cell_type": "code",
   "execution_count": 160,
   "metadata": {},
   "outputs": [],
   "source": [
    "n_blended = blended_pairs.shape[0]\n",
    "n_params = len(selected_quantities)\n",
    "x[:n_blended, :n_params-2] = blended_pairs[:,2:n_params]\n",
    "x[:n_blended, n_params-2:-1] = blended_pairs[:, n_params+2:]\n",
    "x[:n_blended, -1] = np.sqrt( \\\n",
    "                    (blended_pairs[:, 0]-blended_pairs[:, n_params+0])**2 +\n",
    "                    (blended_pairs[:, 1]-blended_pairs[:, n_params+1])**2 ) \n",
    "\n",
    "x[n_blended:, :n_params-2] = unblended_pairs[:, 2:n_params]\n",
    "x[n_blended:, n_params-2:-1] = unblended_pairs[:, n_params+2:]\n",
    "x[n_blended:, -1] =  np.sqrt( \\\n",
    "                    (unblended_pairs[:, 0]-unblended_pairs[:, n_params+0])**2 +\n",
    "                    (unblended_pairs[:, 1]-unblended_pairs[:, n_params+1])**2 ) "
   ]
  },
  {
   "cell_type": "code",
   "execution_count": 161,
   "metadata": {},
   "outputs": [],
   "source": [
    "y[:n_blended] = True"
   ]
  },
  {
   "cell_type": "code",
   "execution_count": 162,
   "metadata": {},
   "outputs": [],
   "source": [
    "np.save('blended_props.npy', x)\n",
    "np.save('blended_bool.npy', y)"
   ]
  },
  {
   "cell_type": "code",
   "execution_count": 163,
   "metadata": {},
   "outputs": [
    {
     "data": {
      "text/plain": [
       "(4652, 13)"
      ]
     },
     "execution_count": 163,
     "metadata": {},
     "output_type": "execute_result"
    }
   ],
   "source": [
    "x.shape"
   ]
  },
  {
   "cell_type": "code",
   "execution_count": null,
   "metadata": {},
   "outputs": [],
   "source": []
  }
 ],
 "metadata": {
  "kernelspec": {
   "display_name": "desc-python",
   "language": "python",
   "name": "desc-python"
  },
  "language_info": {
   "codemirror_mode": {
    "name": "ipython",
    "version": 3
   },
   "file_extension": ".py",
   "mimetype": "text/x-python",
   "name": "python",
   "nbconvert_exporter": "python",
   "pygments_lexer": "ipython3",
   "version": "3.6.2"
  }
 },
 "nbformat": 4,
 "nbformat_minor": 2
}
